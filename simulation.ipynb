{
 "cells": [
  {
   "cell_type": "code",
   "execution_count": 2,
   "metadata": {},
   "outputs": [],
   "source": [
    "%matplotlib inline\n",
    "import numpy as np\n",
    "import pandas as pd\n"
   ]
  },
  {
   "cell_type": "code",
   "execution_count": 15,
   "metadata": {},
   "outputs": [
    {
     "data": {
      "text/plain": [
       "0.1667"
      ]
     },
     "execution_count": 15,
     "metadata": {},
     "output_type": "execute_result"
    }
   ],
   "source": [
    "# 1 How likely is it that you roll doubles when rolling two dice?\n",
    "\n",
    "first_die = np.random.choice([1, 2, 3, 4, 5,6], size=100_000)\n",
    "second_die = np.random.choice([1,2,3,4,5,6], size=100_000)\n",
    "\n",
    "doubles_rolled = (first_die == second_die)\n",
    "\n",
    "doubles_rolled.mean()"
   ]
  },
  {
   "cell_type": "code",
   "execution_count": 48,
   "metadata": {},
   "outputs": [
    {
     "data": {
      "text/plain": [
       "0.2186"
      ]
     },
     "execution_count": 48,
     "metadata": {},
     "output_type": "execute_result"
    }
   ],
   "source": [
    "# 2 If you flip 8 coins, what is the probability of getting exactly 3 heads? What is the probability of getting more than 3 heads?\n",
    "\n",
    "# Let's flip a coin 100_000 times and figure out the probability of flipping \"heads\"\n",
    "\n",
    "# Let's find a way to represent our data\n",
    "outcomes = [\"Heads\", \"Tails\", \"Heads\", \"Tails\", \"Heads\", \"Tails\", \"Heads\", \"Tails\", \"Heads\", \"Tails\", \"Heads\", \"Tails\", \"Heads\", \"Tails\", \"Heads\", \"Tails\"]\n",
    "number_of_simulations = 100_000\n",
    "\n",
    "flips = np.random.choice(outcomes, size=(number_of_simulations,8))\n",
    "\n",
    "\n",
    "# let's say Heads is 1 and Tails is 0\n",
    "outcomes = [1, 0]\n",
    "flips = np.random.choice(outcomes, size=(number_of_simulations, 8))\n",
    "\n",
    "\n",
    "num_of_heads = flips.sum(axis=1)\n",
    "\n",
    "\n",
    "(num_of_heads == 3).mean()"
   ]
  },
  {
   "cell_type": "code",
   "execution_count": 52,
   "metadata": {},
   "outputs": [
    {
     "data": {
      "text/plain": [
       "0.6375"
      ]
     },
     "execution_count": 52,
     "metadata": {},
     "output_type": "execute_result"
    }
   ],
   "source": [
    "(num_of_heads > 3).mean()"
   ]
  },
  {
   "cell_type": "markdown",
   "metadata": {},
   "source": [
    "### #3 \n",
    "There are approximitely 3 web development cohorts for every 1 data science cohort at Codeup. \n",
    "Assuming that Codeup randomly selects an alumni to put on a billboard, what are the odds that the two billboards \n",
    "I drive past both have data science students on them?\n"
   ]
  },
  {
   "cell_type": "code",
   "execution_count": 61,
   "metadata": {},
   "outputs": [
    {
     "data": {
      "text/plain": [
       "0.06339"
      ]
     },
     "execution_count": 61,
     "metadata": {},
     "output_type": "execute_result"
    }
   ],
   "source": [
    "\n",
    "\n",
    "# web = 1, data = 0\n",
    "\n",
    "outcomes = [1, 1, 1, 0]\n",
    "code_boards = np.random.choice(outcomes, size=(100_000, 2))\n",
    "\n",
    "data_boards = code_boards.sum(axis=1)\n",
    "\n",
    "(data_boards == 0).mean()\n"
   ]
  },
  {
   "cell_type": "markdown",
   "metadata": {},
   "source": [
    "### #4 \n",
    "Codeup students buy, on average, 3 poptart packages (+- 1.5) a day from the snack vending machine. \n",
    "If on monday the machine is restocked with 17 poptart packages, how likely is it that I will be able to buy some poptarts on Friday afternoon?\n",
    "\n"
   ]
  },
  {
   "cell_type": "code",
   "execution_count": 86,
   "metadata": {},
   "outputs": [
    {
     "data": {
      "text/plain": [
       "0.61599"
      ]
     },
     "execution_count": 86,
     "metadata": {},
     "output_type": "execute_result"
    }
   ],
   "source": [
    "\n",
    "\n",
    "pop_tarts = np.random.normal(3, 1.5, size=(100_000, 5))\n",
    "\n",
    "pop_tarts_left = pop_tarts.sum(axis=1)\n",
    "\n",
    "(pop_tarts_left <= 16).mean()\n",
    "\n"
   ]
  },
  {
   "cell_type": "markdown",
   "metadata": {},
   "source": [
    "### #5\n",
    "\n",
    "Compare Heights\n",
    "\n",
    "Men have an average height of 178 cm and standard deviation of 8cm.\n",
    "Women have a mean of 170, sd = 6cm.\n",
    "If a man and woman are chosen at random, P(woman taller than man)?"
   ]
  },
  {
   "cell_type": "code",
   "execution_count": 78,
   "metadata": {},
   "outputs": [
    {
     "data": {
      "text/plain": [
       "0.21321"
      ]
     },
     "execution_count": 78,
     "metadata": {},
     "output_type": "execute_result"
    }
   ],
   "source": [
    "man_height = np.random.normal(178, 8, size=(100_000))\n",
    "woman_height = np.random.normal(170, 6, size=(100_000))\n",
    "\n",
    "(woman_height > man_height).mean()\n",
    "\n",
    "\n",
    "\n"
   ]
  },
  {
   "cell_type": "markdown",
   "metadata": {},
   "source": [
    "### #6\n",
    "\n",
    "When installing anaconda on a student's computer, there's a 1 in 250 chance that the download is corrupted and the installation fails. What are the odds that after having 50 students download anaconda, no one has an installation issue? 100 students?\n",
    "\n",
    "What is the probability that we observe an installation issue within the first 150 students that download anaconda?\n",
    "\n",
    "How likely is it that 450 students all download anaconda without an issue?"
   ]
  },
  {
   "cell_type": "code",
   "execution_count": 95,
   "metadata": {},
   "outputs": [
    {
     "data": {
      "text/plain": [
       "0.81854"
      ]
     },
     "execution_count": 95,
     "metadata": {},
     "output_type": "execute_result"
    }
   ],
   "source": [
    "# not_corrupt = 0 corrupt = 1\n",
    "\n",
    "outcomes = [1, 0]\n",
    "\n",
    "\n",
    "corrupt_kids = (np.random.binomial(50, .004, 100_000) == 0).mean()\n",
    "\n",
    "corrupt_kids\n"
   ]
  },
  {
   "cell_type": "code",
   "execution_count": 94,
   "metadata": {},
   "outputs": [
    {
     "data": {
      "text/plain": [
       "0.67143"
      ]
     },
     "execution_count": 94,
     "metadata": {},
     "output_type": "execute_result"
    }
   ],
   "source": [
    "\n",
    "corrupt_kids = (np.random.binomial(100, .004, 100_000) == 0).mean()\n",
    "\n",
    "corrupt_kids\n"
   ]
  },
  {
   "cell_type": "code",
   "execution_count": null,
   "metadata": {},
   "outputs": [],
   "source": []
  },
  {
   "cell_type": "code",
   "execution_count": 98,
   "metadata": {},
   "outputs": [
    {
     "data": {
      "text/plain": [
       "0.45231"
      ]
     },
     "execution_count": 98,
     "metadata": {},
     "output_type": "execute_result"
    }
   ],
   "source": [
    "corrupt_kids = (np.random.binomial(150, .004, 100_000) > 0).mean()\n",
    "\n",
    "corrupt_kids"
   ]
  },
  {
   "cell_type": "code",
   "execution_count": 99,
   "metadata": {},
   "outputs": [
    {
     "data": {
      "text/plain": [
       "0.16432"
      ]
     },
     "execution_count": 99,
     "metadata": {},
     "output_type": "execute_result"
    }
   ],
   "source": [
    "corrupt_kids = (np.random.binomial(450, .004, 100_000) == 0).mean()\n",
    "\n",
    "corrupt_kids"
   ]
  },
  {
   "cell_type": "markdown",
   "metadata": {},
   "source": [
    "### #7 \n",
    "\n",
    "There's a 70% chance on any given day that there will be at least one food truck at Travis Park. However, you haven't seen a food truck there in 3 days. How unlikely is this?\n",
    "\n",
    "How likely is it that a food truck will show up sometime this week?"
   ]
  },
  {
   "cell_type": "code",
   "execution_count": 101,
   "metadata": {},
   "outputs": [
    {
     "data": {
      "text/plain": [
       "0.02736"
      ]
     },
     "execution_count": 101,
     "metadata": {},
     "output_type": "execute_result"
    }
   ],
   "source": [
    "# food_truck_present = 1 , no_food_truck_present = 0\n",
    "\n",
    "no_food_trucks = (np.random.binomial(3, .7, 100_000) == 0).mean()\n",
    "\n",
    "no_food_trucks"
   ]
  },
  {
   "cell_type": "code",
   "execution_count": 104,
   "metadata": {},
   "outputs": [
    {
     "data": {
      "text/plain": [
       "0.99978"
      ]
     },
     "execution_count": 104,
     "metadata": {},
     "output_type": "execute_result"
    }
   ],
   "source": [
    "food_trucks = (np.random.binomial(7, .7, 100_000) > 0).mean()\n",
    "\n",
    "food_trucks"
   ]
  },
  {
   "cell_type": "markdown",
   "metadata": {},
   "source": [
    "### #8\n",
    "\n",
    "If 23 people are in the same room, what are the odds that two of them share a birthday? What if it's 20 people? 40?"
   ]
  },
  {
   "cell_type": "code",
   "execution_count": 122,
   "metadata": {},
   "outputs": [],
   "source": [
    "# birthday_share = 1, no_birthday_share = 0\n",
    "\n"
   ]
  },
  {
   "cell_type": "code",
   "execution_count": 126,
   "metadata": {},
   "outputs": [
    {
     "name": "stdout",
     "output_type": "stream",
     "text": [
      "The probability of sharing a birthday is: 0.4179\n"
     ]
    }
   ],
   "source": [
    "from random import randint\n",
    " \n",
    " \n",
    "NUM_PEOPLE = 20\n",
    "NUM_POSSIBLE_BIRTHDAYS = 365\n",
    "NUM_TRIALS = 10000\n",
    " \n",
    " \n",
    "def generate_random_birthday():\n",
    "    birthday = randint(1, NUM_POSSIBLE_BIRTHDAYS)\n",
    "    return birthday\n",
    " \n",
    " \n",
    "def generate_k_birthdays(k):\n",
    "    birthdays = [generate_random_birthday() for _ in range(k)]\n",
    "    return birthdays\n",
    " \n",
    " \n",
    "def aloc(birthdays):\n",
    "    unique_birthdays = set(birthdays)\n",
    " \n",
    "    num_birthdays = len(birthdays)\n",
    "    num_unique_birthdays = len(unique_birthdays)\n",
    "    has_coincidence = (num_birthdays != num_unique_birthdays)\n",
    " \n",
    "    return has_coincidence\n",
    " \n",
    " \n",
    "def estimate_p_aloc():\n",
    "    num_aloc = 0\n",
    "    for _ in range(NUM_TRIALS):\n",
    "        birthdays = generate_k_birthdays(NUM_PEOPLE)\n",
    "        has_coincidence = aloc(birthdays)\n",
    "        if has_coincidence:\n",
    "            num_aloc += 1\n",
    " \n",
    "    p_aloc = num_aloc / NUM_TRIALS\n",
    "    return p_aloc\n",
    " \n",
    " \n",
    "shared_birthday = estimate_p_aloc()\n",
    "print(f\"The probability of sharing a birthday is: {shared_birthday}\")"
   ]
  },
  {
   "cell_type": "code",
   "execution_count": 127,
   "metadata": {},
   "outputs": [],
   "source": [
    "import random"
   ]
  },
  {
   "cell_type": "code",
   "execution_count": 141,
   "metadata": {},
   "outputs": [
    {
     "name": "stdout",
     "output_type": "stream",
     "text": [
      "0.70338\n"
     ]
    }
   ],
   "source": [
    "stat ={'Collisions': 0, 'No-collisions': 0}\n",
    "\n",
    "for i in range(100_000):\n",
    "    days =[]\n",
    "    for i in range(30):\n",
    "        day = random.randint(0, 365)\n",
    "        days.append(day)\n",
    "    \n",
    "    if len(days) != len(set(days)):\n",
    "        stat['Collisions'] += 1\n",
    "    else:\n",
    "        stat['No-collisions'] += 1\n",
    "    \n",
    "print(stat['Collisions']/100_000)"
   ]
  },
  {
   "cell_type": "code",
   "execution_count": 142,
   "metadata": {},
   "outputs": [],
   "source": [
    "import math"
   ]
  },
  {
   "cell_type": "code",
   "execution_count": null,
   "metadata": {},
   "outputs": [],
   "source": []
  },
  {
   "cell_type": "code",
   "execution_count": null,
   "metadata": {},
   "outputs": [],
   "source": []
  }
 ],
 "metadata": {
  "kernelspec": {
   "display_name": "Python 3",
   "language": "python",
   "name": "python3"
  },
  "language_info": {
   "codemirror_mode": {
    "name": "ipython",
    "version": 3
   },
   "file_extension": ".py",
   "mimetype": "text/x-python",
   "name": "python",
   "nbconvert_exporter": "python",
   "pygments_lexer": "ipython3",
   "version": "3.8.5"
  }
 },
 "nbformat": 4,
 "nbformat_minor": 4
}
