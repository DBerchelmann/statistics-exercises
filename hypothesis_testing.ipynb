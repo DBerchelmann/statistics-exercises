{
 "cells": [
  {
   "cell_type": "markdown",
   "metadata": {},
   "source": [
    "### For each of the following questions, formulate a null and alternative hypothesis (be as specific as you can be), then give an example of what a true positive, true negative, type I and type II errors would look like. Note that some of the questions are intentionally phrased in a vague way. It is your job to reword these as more precise questions that could be tested."
   ]
  },
  {
   "cell_type": "markdown",
   "metadata": {},
   "source": [
    "- Has the network latency gone up since we switched internet service providers?"
   ]
  },
  {
   "cell_type": "markdown",
   "metadata": {},
   "source": [
    "###### Null Hypoth - There has been no change to network latency since switching providers\n",
    "###### Alt. Hypoth - There has been an increase in network latency since switching providers\n",
    "\n",
    "\n",
    "###### True Positive - We switched internet providers and there was an increase in latency\n",
    "###### True Negative - We switched internet providers and there was no increase in latency\n",
    "\n",
    "##### Type 1 Error  - We thought there was an increase in network latency due to switching internet providers but there wasn't\n",
    "##### Type 2 Error - We believed there wasn't an increase in network latency due to switching providers but there actually was"
   ]
  },
  {
   "cell_type": "code",
   "execution_count": null,
   "metadata": {},
   "outputs": [],
   "source": [
    "- Is the website redesign any good"
   ]
  },
  {
   "cell_type": "markdown",
   "metadata": {},
   "source": [
    "##### Null Hypoth - The website redesign has garnered a reaction of 0\n",
    "##### Alt. Hypoth - The website redesign has garnered a reaction of > 0\n",
    "\n",
    "#### True Positive - The website redesign received a reaction of 1\n",
    "#### True Negative - The website redesign received a reaction of 0\n",
    "\n",
    "#### Type 1 Error - We thought the website redesign brought a positive reaction over 0 but that was false\n",
    "#### Type 2 Error - We believed the website redesign brought no reaction but it actually brought a reaction over 0"
   ]
  },
  {
   "cell_type": "markdown",
   "metadata": {},
   "source": [
    "- Is our television ad driving more sales?"
   ]
  },
  {
   "cell_type": "markdown",
   "metadata": {},
   "source": [
    "##### Null Hypoth - The television ad did not increase sales\n",
    "##### Alt. Hypoth - The televsion ad did increase sales\n",
    "\n",
    "##### True Positive - The television add increased sales\n",
    "##### True Negative - The television add did not increase sales\n",
    "\n",
    "##### Type 1 Error - We thought the television add increased sales but it did not\n",
    "##### Type 2 Error - We thought the televsion add didn't increase sales but it actually did"
   ]
  },
  {
   "cell_type": "code",
   "execution_count": null,
   "metadata": {},
   "outputs": [],
   "source": []
  },
  {
   "cell_type": "code",
   "execution_count": null,
   "metadata": {},
   "outputs": [],
   "source": []
  }
 ],
 "metadata": {
  "kernelspec": {
   "display_name": "Python 3",
   "language": "python",
   "name": "python3"
  },
  "language_info": {
   "codemirror_mode": {
    "name": "ipython",
    "version": 3
   },
   "file_extension": ".py",
   "mimetype": "text/x-python",
   "name": "python",
   "nbconvert_exporter": "python",
   "pygments_lexer": "ipython3",
   "version": "3.8.5"
  }
 },
 "nbformat": 4,
 "nbformat_minor": 4
}
